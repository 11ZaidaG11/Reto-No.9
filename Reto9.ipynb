{
 "cells": [
  {
   "cell_type": "markdown",
   "metadata": {},
   "source": [
    "1. Desarrollar un algoritmo que calcule el promedio de un arreglo de reales."
   ]
  },
  {
   "cell_type": "code",
   "execution_count": null,
   "metadata": {},
   "outputs": [
    {
     "name": "stdout",
     "output_type": "stream",
     "text": [
      "[46, 77, 12, 58, 92, 27, 39, 80, 62, 31]  Promedio: 52.4\n"
     ]
    }
   ],
   "source": [
    "import random\n",
    "\n",
    "\n",
    "def arreglo_aleatoreo(): # Genera una lista aleatorea de k datos\n",
    "    arreglo = []\n",
    "    k = random.randrange(1, 11)\n",
    "    for i in range(k):\n",
    "        arreglo.append(random.randrange(101))\n",
    "    return arreglo\n",
    "\n",
    "def calculo_promedio(arreglo:list):\n",
    "    suma : int = 0\n",
    "    for i in arreglo:\n",
    "        suma += i\n",
    "        promedio = round(suma / len(arreglo), 3) # Redondear a 3 decimales\n",
    "    return promedio\n",
    "\n",
    "if __name__ == \"__main__\":\n",
    "    lista = arreglo_aleatoreo()\n",
    "    resultado = calculo_promedio(lista)\n",
    "    print(lista, \" Promedio:\", resultado)"
   ]
  },
  {
   "cell_type": "markdown",
   "metadata": {},
   "source": [
    "2. Desarrollar un algoritmo que calcule el producto punto de dos arreglos de números enteros (reales) de igual tamaño."
   ]
  },
  {
   "cell_type": "code",
   "execution_count": 54,
   "metadata": {},
   "outputs": [
    {
     "name": "stdout",
     "output_type": "stream",
     "text": [
      "[5, 99, 92, 79, 35, 37] . [30, 43, 79, 27, 4, 35] = 15243\n"
     ]
    }
   ],
   "source": [
    "def arreglos_aleatoreos(k:int): # Genera dos listas aleatoreas de igual tamaño\n",
    "    lista_a = []\n",
    "    lista_b = []\n",
    "\n",
    "    for i in range(k):\n",
    "        lista_a.append(random.randrange(101))\n",
    "        lista_b.append(random.randrange(101))\n",
    "    return lista_a, lista_b\n",
    "\n",
    "def producto_punto(k: int, lista_a:list, lista_b:list):\n",
    "    suma : int = 0\n",
    "    for i in range(k):\n",
    "        suma += lista_a[i] * lista_b[i] # Sumatoria de la multiplicacion de los componentes de los vectores\n",
    "    return suma\n",
    "\n",
    "if __name__ == \"__main__\":\n",
    "    k = random.randrange(1, 11)\n",
    "    vector_a, vector_b = arreglos_aleatoreos(k)\n",
    "    resultado = producto_punto(k, vector_a, vector_b)\n",
    "    print(f\"{vector_a} . {vector_b} = {resultado}\")"
   ]
  },
  {
   "cell_type": "markdown",
   "metadata": {},
   "source": [
    "3. Hacer un algoritmo que deje al final de un arreglo de números todos los ceros que aparezcan en dicho arreglo."
   ]
  },
  {
   "cell_type": "code",
   "execution_count": 56,
   "metadata": {},
   "outputs": [
    {
     "name": "stdout",
     "output_type": "stream",
     "text": [
      "[45, 45, 0, 0, 17, 0, 0, 17, 97, 0, 54, 45] Ordenada → [45, 45, 17, 17, 97, 54, 45, 0, 0, 0, 0, 0]\n"
     ]
    }
   ],
   "source": [
    "import random\n",
    "\n",
    "\n",
    "def arreglo_aleatoreo():\n",
    "    q = random.randrange(1, 7)\n",
    "    lista_ceros = []\n",
    "    for i in range(q):\n",
    "        lista_ceros.append(0) # Genera una lista de q longitud de ceros\n",
    "\n",
    "    p = random.randrange(1, 11)\n",
    "    arreglo = []\n",
    "    for i in range(p):\n",
    "        arreglo.append(random.randrange(101)) # Arreglo aleatoreo\n",
    "\n",
    "    union = lista_ceros + arreglo\n",
    "    union = random.choices(union, k = len(union)) # Desordena la lista\n",
    "    return union\n",
    "\n",
    "def orden_correcto(union:list):\n",
    "    solo_ceros = []\n",
    "    sin_ceros = []\n",
    "    for i in union: # Separa los ceros y demás numeros en listas diferentes\n",
    "        if i == 0:\n",
    "            solo_ceros.append(i)\n",
    "        else:\n",
    "            sin_ceros.append(i)\n",
    "\n",
    "    lista_final = sin_ceros + solo_ceros # Los ceros quedan al final del arreglo\n",
    "    return lista_final\n",
    "# Se hace de esta forma para no alterar el orden de los demas numeros\n",
    "\n",
    "if __name__ == \"__main__\":\n",
    "    lista = arreglo_aleatoreo()\n",
    "    resultado = orden_correcto(lista)\n",
    "    print(lista, \"Ordenada →\", resultado)"
   ]
  }
 ],
 "metadata": {
  "kernelspec": {
   "display_name": "Python 3",
   "language": "python",
   "name": "python3"
  },
  "language_info": {
   "codemirror_mode": {
    "name": "ipython",
    "version": 3
   },
   "file_extension": ".py",
   "mimetype": "text/x-python",
   "name": "python",
   "nbconvert_exporter": "python",
   "pygments_lexer": "ipython3",
   "version": "3.12.8"
  }
 },
 "nbformat": 4,
 "nbformat_minor": 2
}
